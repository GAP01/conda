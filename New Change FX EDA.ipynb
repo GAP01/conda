{
 "cells": [
  {
   "cell_type": "code",
   "execution_count": 1,
   "metadata": {},
   "outputs": [],
   "source": [
    "from __future__ import print_function"
   ]
  },
  {
   "cell_type": "code",
   "execution_count": 2,
   "metadata": {},
   "outputs": [
    {
     "data": {
      "text/html": [
       "<script>\n",
       "code_show=true; \n",
       "function code_toggle() {\n",
       " if (code_show){\n",
       " $('div.input').hide();\n",
       " } else {\n",
       " $('div.input').show();\n",
       " }\n",
       " code_show = !code_show\n",
       "} \n",
       "$( document ).ready(code_toggle);\n",
       "</script>\n",
       "The raw code for this IPython notebook is by default hidden for easier reading.\n",
       "To toggle on/off the raw code, click <a href=\"javascript:code_toggle()\">here</a>."
      ],
      "text/plain": [
       "<IPython.core.display.HTML object>"
      ]
     },
     "execution_count": 2,
     "metadata": {},
     "output_type": "execute_result"
    }
   ],
   "source": [
    "from IPython.display import HTML\n",
    "HTML('''<script>\n",
    "code_show=true; \n",
    "function code_toggle() {\n",
    " if (code_show){\n",
    " $('div.input').hide();\n",
    " } else {\n",
    " $('div.input').show();\n",
    " }\n",
    " code_show = !code_show\n",
    "} \n",
    "$( document ).ready(code_toggle);\n",
    "</script>\n",
    "The raw code for this IPython notebook is by default hidden for easier reading.\n",
    "To toggle on/off the raw code, click <a href=\"javascript:code_toggle()\">here</a>.''')"
   ]
  },
  {
   "cell_type": "code",
   "execution_count": 3,
   "metadata": {},
   "outputs": [],
   "source": [
    "import numpy as np\n",
    "import matplotlib.pyplot as plt\n",
    "import pandas as pd\n",
    "import math\n",
    "import time\n",
    "import datetime\n",
    "from ipywidgets import interact, interactive, fixed, interact_manual\n",
    "import ipywidgets as widgets\n",
    "from IPython.display import display\n",
    "\n",
    "train = pd.read_csv(\"EURUSD-Tableau-1.csv\",  delimiter=';')"
   ]
  },
  {
   "cell_type": "markdown",
   "metadata": {},
   "source": [
    "## Analyse de la structure du fichier"
   ]
  },
  {
   "cell_type": "code",
   "execution_count": 4,
   "metadata": {},
   "outputs": [
    {
     "data": {
      "text/html": [
       "<div>\n",
       "<style scoped>\n",
       "    .dataframe tbody tr th:only-of-type {\n",
       "        vertical-align: middle;\n",
       "    }\n",
       "\n",
       "    .dataframe tbody tr th {\n",
       "        vertical-align: top;\n",
       "    }\n",
       "\n",
       "    .dataframe thead th {\n",
       "        text-align: right;\n",
       "    }\n",
       "</style>\n",
       "<table border=\"1\" class=\"dataframe\">\n",
       "  <thead>\n",
       "    <tr style=\"text-align: right;\">\n",
       "      <th></th>\n",
       "      <th>Time</th>\n",
       "      <th>Currency Pair</th>\n",
       "      <th>Amount in Units of 1 million</th>\n",
       "      <th>Normalised BIS Volume (per second)</th>\n",
       "      <th>Amount/Capacity Ratio</th>\n",
       "      <th>Log 1,9</th>\n",
       "      <th>Size Factor</th>\n",
       "      <th>NCFX Mid</th>\n",
       "      <th>Prior Minute Vol</th>\n",
       "      <th>Mid x Min Vol</th>\n",
       "      <th>Norm. Vol</th>\n",
       "      <th>Vol Adjusted Base Spread</th>\n",
       "      <th>Addition for Size</th>\n",
       "      <th>Expected Spread</th>\n",
       "    </tr>\n",
       "  </thead>\n",
       "  <tbody>\n",
       "    <tr>\n",
       "      <th>0</th>\n",
       "      <td>1:00</td>\n",
       "      <td>EURUSD</td>\n",
       "      <td>1</td>\n",
       "      <td>4,2</td>\n",
       "      <td>0,24</td>\n",
       "      <td>-2,24</td>\n",
       "      <td>0,0</td>\n",
       "      <td>1,17523</td>\n",
       "      <td>0,000022</td>\n",
       "      <td>0,00003</td>\n",
       "      <td>0,000055</td>\n",
       "      <td>0,00006</td>\n",
       "      <td>0,6</td>\n",
       "      <td>1,0</td>\n",
       "    </tr>\n",
       "    <tr>\n",
       "      <th>1</th>\n",
       "      <td>1:00</td>\n",
       "      <td>EURUSD</td>\n",
       "      <td>5</td>\n",
       "      <td>4,2</td>\n",
       "      <td>1,19</td>\n",
       "      <td>0,27</td>\n",
       "      <td>0,0</td>\n",
       "      <td>1,17523</td>\n",
       "      <td>0,000022</td>\n",
       "      <td>0,00003</td>\n",
       "      <td>0,000055</td>\n",
       "      <td>0,00006</td>\n",
       "      <td>0,6</td>\n",
       "      <td>1,0</td>\n",
       "    </tr>\n",
       "    <tr>\n",
       "      <th>2</th>\n",
       "      <td>1:00</td>\n",
       "      <td>EURUSD</td>\n",
       "      <td>10</td>\n",
       "      <td>4,2</td>\n",
       "      <td>2,38</td>\n",
       "      <td>1,35</td>\n",
       "      <td>1,4</td>\n",
       "      <td>1,17523</td>\n",
       "      <td>0,000022</td>\n",
       "      <td>0,00003</td>\n",
       "      <td>0,000055</td>\n",
       "      <td>0,00006</td>\n",
       "      <td>1,9</td>\n",
       "      <td>1,9</td>\n",
       "    </tr>\n",
       "    <tr>\n",
       "      <th>3</th>\n",
       "      <td>1:00</td>\n",
       "      <td>EURUSD</td>\n",
       "      <td>15</td>\n",
       "      <td>4,2</td>\n",
       "      <td>3,57</td>\n",
       "      <td>1,98</td>\n",
       "      <td>2,0</td>\n",
       "      <td>1,17523</td>\n",
       "      <td>0,000022</td>\n",
       "      <td>0,00003</td>\n",
       "      <td>0,000055</td>\n",
       "      <td>0,00006</td>\n",
       "      <td>2,5</td>\n",
       "      <td>2,5</td>\n",
       "    </tr>\n",
       "    <tr>\n",
       "      <th>4</th>\n",
       "      <td>1:00</td>\n",
       "      <td>EURUSD</td>\n",
       "      <td>20</td>\n",
       "      <td>4,2</td>\n",
       "      <td>4,76</td>\n",
       "      <td>2,43</td>\n",
       "      <td>2,4</td>\n",
       "      <td>1,17523</td>\n",
       "      <td>0,000022</td>\n",
       "      <td>0,00003</td>\n",
       "      <td>0,000055</td>\n",
       "      <td>0,00006</td>\n",
       "      <td>3,0</td>\n",
       "      <td>3,0</td>\n",
       "    </tr>\n",
       "    <tr>\n",
       "      <th>5</th>\n",
       "      <td>1:00</td>\n",
       "      <td>EURUSD</td>\n",
       "      <td>30</td>\n",
       "      <td>4,2</td>\n",
       "      <td>7,14</td>\n",
       "      <td>3,06</td>\n",
       "      <td>3,1</td>\n",
       "      <td>1,17523</td>\n",
       "      <td>0,000022</td>\n",
       "      <td>0,00003</td>\n",
       "      <td>0,000055</td>\n",
       "      <td>0,00006</td>\n",
       "      <td>3,6</td>\n",
       "      <td>3,6</td>\n",
       "    </tr>\n",
       "    <tr>\n",
       "      <th>6</th>\n",
       "      <td>1:00</td>\n",
       "      <td>EURUSD</td>\n",
       "      <td>50</td>\n",
       "      <td>4,2</td>\n",
       "      <td>11,90</td>\n",
       "      <td>3,86</td>\n",
       "      <td>3,9</td>\n",
       "      <td>1,17523</td>\n",
       "      <td>0,000022</td>\n",
       "      <td>0,00003</td>\n",
       "      <td>0,000055</td>\n",
       "      <td>0,00006</td>\n",
       "      <td>4,4</td>\n",
       "      <td>4,4</td>\n",
       "    </tr>\n",
       "    <tr>\n",
       "      <th>7</th>\n",
       "      <td>1:00</td>\n",
       "      <td>EURUSD</td>\n",
       "      <td>100</td>\n",
       "      <td>4,2</td>\n",
       "      <td>23,81</td>\n",
       "      <td>4,94</td>\n",
       "      <td>4,9</td>\n",
       "      <td>1,17523</td>\n",
       "      <td>0,000022</td>\n",
       "      <td>0,00003</td>\n",
       "      <td>0,000055</td>\n",
       "      <td>0,00006</td>\n",
       "      <td>5,5</td>\n",
       "      <td>5,5</td>\n",
       "    </tr>\n",
       "    <tr>\n",
       "      <th>8</th>\n",
       "      <td>1:00</td>\n",
       "      <td>EURUSD</td>\n",
       "      <td>200</td>\n",
       "      <td>4,2</td>\n",
       "      <td>47,62</td>\n",
       "      <td>6,02</td>\n",
       "      <td>6,0</td>\n",
       "      <td>1,17523</td>\n",
       "      <td>0,000022</td>\n",
       "      <td>0,00003</td>\n",
       "      <td>0,000055</td>\n",
       "      <td>0,00006</td>\n",
       "      <td>6,6</td>\n",
       "      <td>6,6</td>\n",
       "    </tr>\n",
       "    <tr>\n",
       "      <th>9</th>\n",
       "      <td>3:00</td>\n",
       "      <td>EURUSD</td>\n",
       "      <td>1</td>\n",
       "      <td>3,4</td>\n",
       "      <td>0,29</td>\n",
       "      <td>-1,91</td>\n",
       "      <td>0,0</td>\n",
       "      <td>1,17615</td>\n",
       "      <td>0,000013</td>\n",
       "      <td>0,00002</td>\n",
       "      <td>0,000055</td>\n",
       "      <td>0,00006</td>\n",
       "      <td>0,6</td>\n",
       "      <td>1,0</td>\n",
       "    </tr>\n",
       "  </tbody>\n",
       "</table>\n",
       "</div>"
      ],
      "text/plain": [
       "  Time  Currency Pair  Amount in Units of 1 million  \\\n",
       "0  1:00        EURUSD                             1   \n",
       "1  1:00        EURUSD                             5   \n",
       "2  1:00        EURUSD                            10   \n",
       "3  1:00        EURUSD                            15   \n",
       "4  1:00        EURUSD                            20   \n",
       "5  1:00        EURUSD                            30   \n",
       "6  1:00        EURUSD                            50   \n",
       "7  1:00        EURUSD                           100   \n",
       "8  1:00        EURUSD                           200   \n",
       "9  3:00        EURUSD                             1   \n",
       "\n",
       "  Normalised BIS Volume (per second) Amount/Capacity Ratio Log 1,9  \\\n",
       "0                                4,2                  0,24   -2,24   \n",
       "1                                4,2                  1,19    0,27   \n",
       "2                                4,2                  2,38    1,35   \n",
       "3                                4,2                  3,57    1,98   \n",
       "4                                4,2                  4,76    2,43   \n",
       "5                                4,2                  7,14    3,06   \n",
       "6                                4,2                 11,90    3,86   \n",
       "7                                4,2                 23,81    4,94   \n",
       "8                                4,2                 47,62    6,02   \n",
       "9                                3,4                  0,29   -1,91   \n",
       "\n",
       "  Size Factor NCFX Mid Prior Minute Vol Mid x Min Vol Norm. Vol  \\\n",
       "0         0,0  1,17523         0,000022       0,00003  0,000055   \n",
       "1         0,0  1,17523         0,000022       0,00003  0,000055   \n",
       "2         1,4  1,17523         0,000022       0,00003  0,000055   \n",
       "3         2,0  1,17523         0,000022       0,00003  0,000055   \n",
       "4         2,4  1,17523         0,000022       0,00003  0,000055   \n",
       "5         3,1  1,17523         0,000022       0,00003  0,000055   \n",
       "6         3,9  1,17523         0,000022       0,00003  0,000055   \n",
       "7         4,9  1,17523         0,000022       0,00003  0,000055   \n",
       "8         6,0  1,17523         0,000022       0,00003  0,000055   \n",
       "9         0,0  1,17615         0,000013       0,00002  0,000055   \n",
       "\n",
       "  Vol Adjusted Base Spread Addition for Size Expected Spread  \n",
       "0                  0,00006               0,6             1,0  \n",
       "1                  0,00006               0,6             1,0  \n",
       "2                  0,00006               1,9             1,9  \n",
       "3                  0,00006               2,5             2,5  \n",
       "4                  0,00006               3,0             3,0  \n",
       "5                  0,00006               3,6             3,6  \n",
       "6                  0,00006               4,4             4,4  \n",
       "7                  0,00006               5,5             5,5  \n",
       "8                  0,00006               6,6             6,6  \n",
       "9                  0,00006               0,6             1,0  "
      ]
     },
     "execution_count": 4,
     "metadata": {},
     "output_type": "execute_result"
    }
   ],
   "source": [
    "train.head(10)"
   ]
  },
  {
   "cell_type": "code",
   "execution_count": 5,
   "metadata": {},
   "outputs": [
    {
     "data": {
      "text/plain": [
       "['Time ',\n",
       " 'Currency Pair',\n",
       " 'Amount in Units of 1 million',\n",
       " 'Normalised BIS Volume (per second)',\n",
       " 'Amount/Capacity Ratio',\n",
       " 'Log 1,9',\n",
       " 'Size Factor',\n",
       " 'NCFX Mid',\n",
       " 'Prior Minute Vol',\n",
       " 'Mid x Min Vol',\n",
       " 'Norm. Vol',\n",
       " 'Vol Adjusted Base Spread',\n",
       " 'Addition for Size',\n",
       " 'Expected Spread']"
      ]
     },
     "execution_count": 5,
     "metadata": {},
     "output_type": "execute_result"
    }
   ],
   "source": [
    "train.columns.tolist()"
   ]
  },
  {
   "cell_type": "markdown",
   "metadata": {},
   "source": [
    "Le model comprend 14 colonnes, principalement des valeurs numériques et une information temporelle. Nous allons commencer par parcourir ces colonnes une à une, en y appliquant les éventuelles modifications permettant une meilleur exploitation de la donnée."
   ]
  },
  {
   "cell_type": "markdown",
   "metadata": {},
   "source": [
    "### -- Time --"
   ]
  },
  {
   "cell_type": "code",
   "execution_count": 6,
   "metadata": {},
   "outputs": [
    {
     "data": {
      "text/plain": [
       "111    17:00\n",
       "147    22:00\n",
       "11      3:00\n",
       "123    18:00\n",
       "145    22:00\n",
       "17      3:00\n",
       "143    20:00\n",
       "46      8:00\n",
       "90     15:00\n",
       "39      7:00\n",
       "Name: Time , dtype: object"
      ]
     },
     "execution_count": 6,
     "metadata": {},
     "output_type": "execute_result"
    }
   ],
   "source": [
    "train['Time '].sample(10)"
   ]
  },
  {
   "cell_type": "markdown",
   "metadata": {},
   "source": [
    "Nous avons ici des heures de la journée, plusieurs points à noter :\n",
    "- stockées en chaîne de caractère donc à convertir \n",
    "- Une heure de la journée peut être, répétée sur plusieurs lignes. Chaque ligne correspondant à une valeur distincte de \"Amount in Units of 1 million\". Nous verrons plus loin si l'on peut s'affranchir de ces \"doublons\".\n",
    "- La fréquence peut variée au sein de la série, durant les premières et les dernières heures de la journée, il y à un enregistrement toutes les 2 heures, puis à partir de 7h, il n'y à plus qu'une heure entre chaque enregistrement. Nous allons voir par la suite que ces variations peuvent poser problème pour l'alimentation d'un modèle de Deep Learning."
   ]
  },
  {
   "cell_type": "code",
   "execution_count": 7,
   "metadata": {},
   "outputs": [],
   "source": [
    "train['Time '] = pd.to_datetime(train['Time '],format= '%H:%M' ).dt.time"
   ]
  },
  {
   "cell_type": "markdown",
   "metadata": {},
   "source": [
    "### -- Currency Pair --"
   ]
  },
  {
   "cell_type": "code",
   "execution_count": 8,
   "metadata": {},
   "outputs": [
    {
     "data": {
      "text/plain": [
       "array(['EURUSD'], dtype=object)"
      ]
     },
     "execution_count": 8,
     "metadata": {},
     "output_type": "execute_result"
    }
   ],
   "source": [
    "train['Currency Pair'].unique()"
   ]
  },
  {
   "cell_type": "markdown",
   "metadata": {},
   "source": [
    "Cette colonne de type String contient le type de monnaie échangée, dans ce fichier de test nous n'avons que la valeur 'EURUSD' (€ --> $) mais nous pouvons importer les différents onglets du fichier source pour avoir toutes les monnaies.\n",
    "\n",
    "Ceci ne fausse pas l'analyse à ce stade."
   ]
  },
  {
   "cell_type": "markdown",
   "metadata": {},
   "source": [
    "### -- Amount in Units of 1 million --"
   ]
  },
  {
   "cell_type": "code",
   "execution_count": 9,
   "metadata": {},
   "outputs": [
    {
     "data": {
      "text/plain": [
       "count    153.000000\n",
       "mean      47.862745\n",
       "std       61.239613\n",
       "min        1.000000\n",
       "25%       10.000000\n",
       "50%       20.000000\n",
       "75%       50.000000\n",
       "max      200.000000\n",
       "Name: Amount in Units of 1 million, dtype: float64"
      ]
     },
     "execution_count": 9,
     "metadata": {},
     "output_type": "execute_result"
    }
   ],
   "source": [
    "train['Amount in Units of 1 million'].describe()"
   ]
  },
  {
   "cell_type": "markdown",
   "metadata": {},
   "source": [
    "Cette colonne contient le montant de transaction en millions de'€ . 5 montants différents sont répétés pour chaque heure.\n",
    "\n",
    "Format : OK déjà en format numérique\n",
    "Origine : Valeur saisie\n",
    "Observation : Nous allons voir si ces lignes ne peuvent pas être calculées à partir des valeurs fournies pour 1M€"
   ]
  },
  {
   "cell_type": "markdown",
   "metadata": {},
   "source": [
    "### -- Normalised BIS Volume (per second) --"
   ]
  },
  {
   "cell_type": "code",
   "execution_count": 10,
   "metadata": {},
   "outputs": [
    {
     "data": {
      "text/plain": [
       "33      4,2\n",
       "151     1,1\n",
       "7       4,2\n",
       "103    11,5\n",
       "132     6,1\n",
       "3       4,2\n",
       "134     6,1\n",
       "76      8,4\n",
       "125     6,1\n",
       "104    11,5\n",
       "Name: Normalised BIS Volume (per second), dtype: object"
      ]
     },
     "execution_count": 10,
     "metadata": {},
     "output_type": "execute_result"
    }
   ],
   "source": [
    "train['Normalised BIS Volume (per second)'].sample(10)"
   ]
  },
  {
   "cell_type": "markdown",
   "metadata": {},
   "source": [
    "Format : KO --> le séparateur virgule entraîne une conversion en chaîne de caractère au chargement, il faut donc procéder à une conversion\n",
    "\n",
    "Origine : Valeur saisie\n",
    "\n",
    "Valeurs manquantes : 1 , s'agissant d'une valeur clé nous ne pouvons garder la ligne concernée. Ceci d'autant plus qu'après vérification il s'agit d'un réel doublon.\n",
    "\n",
    "Observation : le problème de format constaté s'applique à toutes les colonnes suivantes, pour gagner du temps nous pouvons procéder à une correction globale"
   ]
  },
  {
   "cell_type": "code",
   "execution_count": 11,
   "metadata": {},
   "outputs": [
    {
     "name": "stdout",
     "output_type": "stream",
     "text": [
      "Normalised BIS Volume (per second) : <class 'numpy.float64'>\n",
      "Amount/Capacity Ratio : <class 'numpy.float64'>\n",
      "Log 1,9 : <class 'numpy.float64'>\n",
      "Size Factor : <class 'numpy.float64'>\n",
      "NCFX Mid : <class 'numpy.float64'>\n",
      "Prior Minute Vol : <class 'numpy.float64'>\n",
      "Mid x Min Vol : <class 'numpy.float64'>\n",
      "Norm. Vol : <class 'numpy.float64'>\n",
      "Vol Adjusted Base Spread : <class 'numpy.float64'>\n",
      "Addition for Size : <class 'numpy.float64'>\n",
      "Expected Spread : <class 'numpy.float64'>\n"
     ]
    }
   ],
   "source": [
    "train.dropna(inplace = True)\n",
    "\n",
    "columns_to_convert_float = ['Normalised BIS Volume (per second)', 'Amount/Capacity Ratio',\n",
    "       'Log 1,9', 'Size Factor', 'NCFX Mid','Prior Minute Vol',\n",
    "       'Mid x Min Vol', 'Norm. Vol', 'Vol Adjusted Base Spread',\n",
    "       'Addition for Size', 'Expected Spread']\n",
    "\n",
    "for column in columns_to_convert_float:\n",
    "        train[column] = train[column].apply(lambda x: float(x.replace(\",\",\".\")) )\n",
    "        print( column + ' : ' + str(type(train[column][0])))\n",
    "\n"
   ]
  },
  {
   "cell_type": "markdown",
   "metadata": {},
   "source": [
    "Toutes les colonnes suivantes sont désormais en format numérique."
   ]
  },
  {
   "cell_type": "markdown",
   "metadata": {},
   "source": [
    "### -- Amount/Capacity Ratio --"
   ]
  },
  {
   "cell_type": "code",
   "execution_count": 12,
   "metadata": {},
   "outputs": [
    {
     "data": {
      "text/plain": [
       "count    152.000000\n",
       "mean       9.884803\n",
       "std       19.510543\n",
       "min        0.070000\n",
       "25%        1.190000\n",
       "50%        3.500000\n",
       "75%       10.515000\n",
       "max      181.820000\n",
       "Name: Amount/Capacity Ratio, dtype: float64"
      ]
     },
     "execution_count": 12,
     "metadata": {},
     "output_type": "execute_result"
    }
   ],
   "source": [
    "train['Amount/Capacity Ratio'].describe()"
   ]
  },
  {
   "cell_type": "markdown",
   "metadata": {},
   "source": [
    "Format : OK \n",
    "\n",
    "Origine : Valeur calculée dans le modèle Excel\n",
    "\n",
    "Valeurs manquantes : aucune\n",
    "\n",
    "Observation : le problème de format constaté s'applique à toutes les colonnes suivantes, pour gagner du temps nous pouvons procéder à une correction globale"
   ]
  },
  {
   "cell_type": "code",
   "execution_count": 13,
   "metadata": {},
   "outputs": [
    {
     "data": {
      "text/html": [
       "<div>\n",
       "<style scoped>\n",
       "    .dataframe tbody tr th:only-of-type {\n",
       "        vertical-align: middle;\n",
       "    }\n",
       "\n",
       "    .dataframe tbody tr th {\n",
       "        vertical-align: top;\n",
       "    }\n",
       "\n",
       "    .dataframe thead th {\n",
       "        text-align: right;\n",
       "    }\n",
       "</style>\n",
       "<table border=\"1\" class=\"dataframe\">\n",
       "  <thead>\n",
       "    <tr style=\"text-align: right;\">\n",
       "      <th></th>\n",
       "      <th>Amount/Capacity Ratio</th>\n",
       "      <th>ac_ratio</th>\n",
       "    </tr>\n",
       "  </thead>\n",
       "  <tbody>\n",
       "    <tr>\n",
       "      <th>0</th>\n",
       "      <td>0.24</td>\n",
       "      <td>0.238095</td>\n",
       "    </tr>\n",
       "    <tr>\n",
       "      <th>1</th>\n",
       "      <td>1.19</td>\n",
       "      <td>1.190476</td>\n",
       "    </tr>\n",
       "    <tr>\n",
       "      <th>2</th>\n",
       "      <td>2.38</td>\n",
       "      <td>2.380952</td>\n",
       "    </tr>\n",
       "    <tr>\n",
       "      <th>3</th>\n",
       "      <td>3.57</td>\n",
       "      <td>3.571429</td>\n",
       "    </tr>\n",
       "    <tr>\n",
       "      <th>4</th>\n",
       "      <td>4.76</td>\n",
       "      <td>4.761905</td>\n",
       "    </tr>\n",
       "    <tr>\n",
       "      <th>5</th>\n",
       "      <td>7.14</td>\n",
       "      <td>7.142857</td>\n",
       "    </tr>\n",
       "    <tr>\n",
       "      <th>6</th>\n",
       "      <td>11.90</td>\n",
       "      <td>11.904762</td>\n",
       "    </tr>\n",
       "    <tr>\n",
       "      <th>7</th>\n",
       "      <td>23.81</td>\n",
       "      <td>23.809524</td>\n",
       "    </tr>\n",
       "    <tr>\n",
       "      <th>8</th>\n",
       "      <td>47.62</td>\n",
       "      <td>47.619048</td>\n",
       "    </tr>\n",
       "    <tr>\n",
       "      <th>9</th>\n",
       "      <td>0.29</td>\n",
       "      <td>0.294118</td>\n",
       "    </tr>\n",
       "  </tbody>\n",
       "</table>\n",
       "</div>"
      ],
      "text/plain": [
       "   Amount/Capacity Ratio   ac_ratio\n",
       "0                   0.24   0.238095\n",
       "1                   1.19   1.190476\n",
       "2                   2.38   2.380952\n",
       "3                   3.57   3.571429\n",
       "4                   4.76   4.761905\n",
       "5                   7.14   7.142857\n",
       "6                  11.90  11.904762\n",
       "7                  23.81  23.809524\n",
       "8                  47.62  47.619048\n",
       "9                   0.29   0.294118"
      ]
     },
     "execution_count": 13,
     "metadata": {},
     "output_type": "execute_result"
    }
   ],
   "source": [
    "train['ac_ratio']= train['Amount in Units of 1 million']/train['Normalised BIS Volume (per second)']\n",
    "train.iloc[0:10, [4,14]]"
   ]
  },
  {
   "cell_type": "markdown",
   "metadata": {},
   "source": [
    "### -- Log 1,9 --"
   ]
  },
  {
   "cell_type": "code",
   "execution_count": 14,
   "metadata": {},
   "outputs": [
    {
     "data": {
      "text/plain": [
       "count    152.000000\n",
       "mean       1.805921\n",
       "std        2.555559\n",
       "min       -4.160000\n",
       "25%        0.270000\n",
       "50%        1.950000\n",
       "75%        3.660000\n",
       "max        8.110000\n",
       "Name: Log 1,9, dtype: float64"
      ]
     },
     "execution_count": 14,
     "metadata": {},
     "output_type": "execute_result"
    }
   ],
   "source": [
    "train['Log 1,9'].describe()"
   ]
  },
  {
   "cell_type": "markdown",
   "metadata": {},
   "source": [
    "Format : OK \n",
    "\n",
    "Origine : Valeur calculée dans le modèle Excel\n",
    "\n",
    "Valeurs manquantes : aucune\n",
    "\n",
    "Observation : Tout comme pour la valeur précédente, les valeurs calculées dans Excel peuvent l'être directement dans le DataFrame. Nous allons donc alimenter une nouvelle colonne dynamique, comparer le résultat avec les valeurs fournies, et si le test est concluant supprimer la colonne d'origine "
   ]
  },
  {
   "cell_type": "code",
   "execution_count": 15,
   "metadata": {},
   "outputs": [
    {
     "data": {
      "text/html": [
       "<div>\n",
       "<style scoped>\n",
       "    .dataframe tbody tr th:only-of-type {\n",
       "        vertical-align: middle;\n",
       "    }\n",
       "\n",
       "    .dataframe tbody tr th {\n",
       "        vertical-align: top;\n",
       "    }\n",
       "\n",
       "    .dataframe thead th {\n",
       "        text-align: right;\n",
       "    }\n",
       "</style>\n",
       "<table border=\"1\" class=\"dataframe\">\n",
       "  <thead>\n",
       "    <tr style=\"text-align: right;\">\n",
       "      <th></th>\n",
       "      <th>Log 1,9</th>\n",
       "      <th>LOG</th>\n",
       "    </tr>\n",
       "  </thead>\n",
       "  <tbody>\n",
       "    <tr>\n",
       "      <th>0</th>\n",
       "      <td>-2.24</td>\n",
       "      <td>-2.235843</td>\n",
       "    </tr>\n",
       "    <tr>\n",
       "      <th>1</th>\n",
       "      <td>0.27</td>\n",
       "      <td>0.271640</td>\n",
       "    </tr>\n",
       "    <tr>\n",
       "      <th>2</th>\n",
       "      <td>1.35</td>\n",
       "      <td>1.351555</td>\n",
       "    </tr>\n",
       "    <tr>\n",
       "      <th>3</th>\n",
       "      <td>1.98</td>\n",
       "      <td>1.983264</td>\n",
       "    </tr>\n",
       "    <tr>\n",
       "      <th>4</th>\n",
       "      <td>2.43</td>\n",
       "      <td>2.431469</td>\n",
       "    </tr>\n",
       "    <tr>\n",
       "      <th>5</th>\n",
       "      <td>3.06</td>\n",
       "      <td>3.063178</td>\n",
       "    </tr>\n",
       "    <tr>\n",
       "      <th>6</th>\n",
       "      <td>3.86</td>\n",
       "      <td>3.859038</td>\n",
       "    </tr>\n",
       "    <tr>\n",
       "      <th>7</th>\n",
       "      <td>4.94</td>\n",
       "      <td>4.938952</td>\n",
       "    </tr>\n",
       "    <tr>\n",
       "      <th>8</th>\n",
       "      <td>6.02</td>\n",
       "      <td>6.018866</td>\n",
       "    </tr>\n",
       "    <tr>\n",
       "      <th>9</th>\n",
       "      <td>-1.91</td>\n",
       "      <td>-1.906626</td>\n",
       "    </tr>\n",
       "  </tbody>\n",
       "</table>\n",
       "</div>"
      ],
      "text/plain": [
       "   Log 1,9       LOG\n",
       "0    -2.24 -2.235843\n",
       "1     0.27  0.271640\n",
       "2     1.35  1.351555\n",
       "3     1.98  1.983264\n",
       "4     2.43  2.431469\n",
       "5     3.06  3.063178\n",
       "6     3.86  3.859038\n",
       "7     4.94  4.938952\n",
       "8     6.02  6.018866\n",
       "9    -1.91 -1.906626"
      ]
     },
     "execution_count": 15,
     "metadata": {},
     "output_type": "execute_result"
    }
   ],
   "source": [
    "train['LOG']=train.apply(lambda x: math.log(x[14],1.9), axis=1)\n",
    "train.iloc[0:10, [5,15]]"
   ]
  },
  {
   "cell_type": "markdown",
   "metadata": {},
   "source": [
    "### -- Size Factor --"
   ]
  },
  {
   "cell_type": "code",
   "execution_count": 16,
   "metadata": {},
   "outputs": [
    {
     "data": {
      "text/html": [
       "<div>\n",
       "<style scoped>\n",
       "    .dataframe tbody tr th:only-of-type {\n",
       "        vertical-align: middle;\n",
       "    }\n",
       "\n",
       "    .dataframe tbody tr th {\n",
       "        vertical-align: top;\n",
       "    }\n",
       "\n",
       "    .dataframe thead th {\n",
       "        text-align: right;\n",
       "    }\n",
       "</style>\n",
       "<table border=\"1\" class=\"dataframe\">\n",
       "  <thead>\n",
       "    <tr style=\"text-align: right;\">\n",
       "      <th></th>\n",
       "      <th>Size Factor</th>\n",
       "      <th>Size_Factor</th>\n",
       "    </tr>\n",
       "  </thead>\n",
       "  <tbody>\n",
       "    <tr>\n",
       "      <th>0</th>\n",
       "      <td>0.0</td>\n",
       "      <td>0.000000</td>\n",
       "    </tr>\n",
       "    <tr>\n",
       "      <th>1</th>\n",
       "      <td>0.0</td>\n",
       "      <td>0.000000</td>\n",
       "    </tr>\n",
       "    <tr>\n",
       "      <th>2</th>\n",
       "      <td>1.4</td>\n",
       "      <td>1.351555</td>\n",
       "    </tr>\n",
       "    <tr>\n",
       "      <th>3</th>\n",
       "      <td>2.0</td>\n",
       "      <td>1.983264</td>\n",
       "    </tr>\n",
       "    <tr>\n",
       "      <th>4</th>\n",
       "      <td>2.4</td>\n",
       "      <td>2.431469</td>\n",
       "    </tr>\n",
       "    <tr>\n",
       "      <th>5</th>\n",
       "      <td>3.1</td>\n",
       "      <td>3.063178</td>\n",
       "    </tr>\n",
       "    <tr>\n",
       "      <th>6</th>\n",
       "      <td>3.9</td>\n",
       "      <td>3.859038</td>\n",
       "    </tr>\n",
       "    <tr>\n",
       "      <th>7</th>\n",
       "      <td>4.9</td>\n",
       "      <td>4.938952</td>\n",
       "    </tr>\n",
       "    <tr>\n",
       "      <th>8</th>\n",
       "      <td>6.0</td>\n",
       "      <td>6.018866</td>\n",
       "    </tr>\n",
       "    <tr>\n",
       "      <th>9</th>\n",
       "      <td>0.0</td>\n",
       "      <td>0.000000</td>\n",
       "    </tr>\n",
       "  </tbody>\n",
       "</table>\n",
       "</div>"
      ],
      "text/plain": [
       "   Size Factor  Size_Factor\n",
       "0          0.0     0.000000\n",
       "1          0.0     0.000000\n",
       "2          1.4     1.351555\n",
       "3          2.0     1.983264\n",
       "4          2.4     2.431469\n",
       "5          3.1     3.063178\n",
       "6          3.9     3.859038\n",
       "7          4.9     4.938952\n",
       "8          6.0     6.018866\n",
       "9          0.0     0.000000"
      ]
     },
     "execution_count": 16,
     "metadata": {},
     "output_type": "execute_result"
    }
   ],
   "source": [
    "train['Size_Factor'] = train.apply(lambda x: x[15] if x[15]>1 else  0, axis=1)\n",
    "train.iloc[0:10, [6,16]]"
   ]
  },
  {
   "cell_type": "markdown",
   "metadata": {},
   "source": [
    "### -- NCFX Mid and Prior Minute Vol --\n",
    "\n",
    "Les 2 colonnes suivantes sont des valeurs saisies et sont déjà dans le format attendu. Nous ne nous y attardons pas à ce stade de l'analyse, mais nous pouvons d'ores et déjà imaginer qu'elles feront partir des valeurs clé à prédire, afin d'estimer le Spread."
   ]
  },
  {
   "cell_type": "markdown",
   "metadata": {},
   "source": [
    "### -- Mid x min vol --"
   ]
  },
  {
   "cell_type": "markdown",
   "metadata": {},
   "source": [
    "Format : OK \n",
    "\n",
    "Origine : Valeur calculée dans le modèle Excel\n",
    "\n",
    "Valeurs manquantes : aucune\n",
    "\n",
    "Observation : la formule est la suivante ('NCFX Mid' * (1 + 'prio minute vol') - 'NCFX Mid')"
   ]
  },
  {
   "cell_type": "code",
   "execution_count": 17,
   "metadata": {},
   "outputs": [],
   "source": [
    "train['midxmin'] = train['NCFX Mid']*(1 + train['Prior Minute Vol'])-train['NCFX Mid']"
   ]
  },
  {
   "cell_type": "markdown",
   "metadata": {},
   "source": [
    "### -- Vol adjusted Base spread --"
   ]
  },
  {
   "cell_type": "markdown",
   "metadata": {},
   "source": [
    "Format : OK \n",
    "\n",
    "Origine : Valeur calculée dans le modèle Excel\n",
    "\n",
    "Valeurs manquantes : aucune\n",
    "\n",
    "Observation : Il s'agit ici de la valeur maximum entre la colonne 'Mid x min vol' et la colonne 'Norm. Vol'"
   ]
  },
  {
   "cell_type": "code",
   "execution_count": 18,
   "metadata": {},
   "outputs": [
    {
     "data": {
      "text/html": [
       "<div>\n",
       "<style scoped>\n",
       "    .dataframe tbody tr th:only-of-type {\n",
       "        vertical-align: middle;\n",
       "    }\n",
       "\n",
       "    .dataframe tbody tr th {\n",
       "        vertical-align: top;\n",
       "    }\n",
       "\n",
       "    .dataframe thead th {\n",
       "        text-align: right;\n",
       "    }\n",
       "</style>\n",
       "<table border=\"1\" class=\"dataframe\">\n",
       "  <thead>\n",
       "    <tr style=\"text-align: right;\">\n",
       "      <th></th>\n",
       "      <th>Vol Adjusted Base Spread</th>\n",
       "      <th>vol_adj_base_spread</th>\n",
       "    </tr>\n",
       "  </thead>\n",
       "  <tbody>\n",
       "    <tr>\n",
       "      <th>0</th>\n",
       "      <td>0.00006</td>\n",
       "      <td>0.000055</td>\n",
       "    </tr>\n",
       "    <tr>\n",
       "      <th>1</th>\n",
       "      <td>0.00006</td>\n",
       "      <td>0.000055</td>\n",
       "    </tr>\n",
       "    <tr>\n",
       "      <th>2</th>\n",
       "      <td>0.00006</td>\n",
       "      <td>0.000055</td>\n",
       "    </tr>\n",
       "    <tr>\n",
       "      <th>3</th>\n",
       "      <td>0.00006</td>\n",
       "      <td>0.000055</td>\n",
       "    </tr>\n",
       "    <tr>\n",
       "      <th>4</th>\n",
       "      <td>0.00006</td>\n",
       "      <td>0.000055</td>\n",
       "    </tr>\n",
       "    <tr>\n",
       "      <th>5</th>\n",
       "      <td>0.00006</td>\n",
       "      <td>0.000055</td>\n",
       "    </tr>\n",
       "    <tr>\n",
       "      <th>6</th>\n",
       "      <td>0.00006</td>\n",
       "      <td>0.000055</td>\n",
       "    </tr>\n",
       "    <tr>\n",
       "      <th>7</th>\n",
       "      <td>0.00006</td>\n",
       "      <td>0.000055</td>\n",
       "    </tr>\n",
       "    <tr>\n",
       "      <th>8</th>\n",
       "      <td>0.00006</td>\n",
       "      <td>0.000055</td>\n",
       "    </tr>\n",
       "    <tr>\n",
       "      <th>9</th>\n",
       "      <td>0.00006</td>\n",
       "      <td>0.000055</td>\n",
       "    </tr>\n",
       "  </tbody>\n",
       "</table>\n",
       "</div>"
      ],
      "text/plain": [
       "   Vol Adjusted Base Spread  vol_adj_base_spread\n",
       "0                   0.00006             0.000055\n",
       "1                   0.00006             0.000055\n",
       "2                   0.00006             0.000055\n",
       "3                   0.00006             0.000055\n",
       "4                   0.00006             0.000055\n",
       "5                   0.00006             0.000055\n",
       "6                   0.00006             0.000055\n",
       "7                   0.00006             0.000055\n",
       "8                   0.00006             0.000055\n",
       "9                   0.00006             0.000055"
      ]
     },
     "execution_count": 18,
     "metadata": {},
     "output_type": "execute_result"
    }
   ],
   "source": [
    "train[\"vol_adj_base_spread\"] = train[[\"midxmin\", \"Norm. Vol\"]].max(axis=1)\n",
    "train.drop(['Vol Adjusted Base Spread'], axis=1)\n",
    "train.iloc[0:10, [11,18]]"
   ]
  },
  {
   "cell_type": "markdown",
   "metadata": {},
   "source": [
    "### -- Addition for size --"
   ]
  },
  {
   "cell_type": "markdown",
   "metadata": {},
   "source": [
    "Format : OK \n",
    "\n",
    "Origine : Valeur calculée dans le modèle Excel\n",
    "\n",
    "Valeurs manquantes : aucune\n",
    "\n",
    "Observation : la formule est la suivante : vol_adj_base_spread * 10000 + siz_factor"
   ]
  },
  {
   "cell_type": "code",
   "execution_count": 19,
   "metadata": {},
   "outputs": [
    {
     "data": {
      "text/html": [
       "<div>\n",
       "<style scoped>\n",
       "    .dataframe tbody tr th:only-of-type {\n",
       "        vertical-align: middle;\n",
       "    }\n",
       "\n",
       "    .dataframe tbody tr th {\n",
       "        vertical-align: top;\n",
       "    }\n",
       "\n",
       "    .dataframe thead th {\n",
       "        text-align: right;\n",
       "    }\n",
       "</style>\n",
       "<table border=\"1\" class=\"dataframe\">\n",
       "  <thead>\n",
       "    <tr style=\"text-align: right;\">\n",
       "      <th></th>\n",
       "      <th>Addition for Size</th>\n",
       "      <th>add_for_size</th>\n",
       "    </tr>\n",
       "  </thead>\n",
       "  <tbody>\n",
       "    <tr>\n",
       "      <th>0</th>\n",
       "      <td>0.6</td>\n",
       "      <td>0.550000</td>\n",
       "    </tr>\n",
       "    <tr>\n",
       "      <th>1</th>\n",
       "      <td>0.6</td>\n",
       "      <td>0.550000</td>\n",
       "    </tr>\n",
       "    <tr>\n",
       "      <th>2</th>\n",
       "      <td>1.9</td>\n",
       "      <td>1.901555</td>\n",
       "    </tr>\n",
       "    <tr>\n",
       "      <th>3</th>\n",
       "      <td>2.5</td>\n",
       "      <td>2.533264</td>\n",
       "    </tr>\n",
       "    <tr>\n",
       "      <th>4</th>\n",
       "      <td>3.0</td>\n",
       "      <td>2.981469</td>\n",
       "    </tr>\n",
       "    <tr>\n",
       "      <th>5</th>\n",
       "      <td>3.6</td>\n",
       "      <td>3.613178</td>\n",
       "    </tr>\n",
       "    <tr>\n",
       "      <th>6</th>\n",
       "      <td>4.4</td>\n",
       "      <td>4.409038</td>\n",
       "    </tr>\n",
       "    <tr>\n",
       "      <th>7</th>\n",
       "      <td>5.5</td>\n",
       "      <td>5.488952</td>\n",
       "    </tr>\n",
       "    <tr>\n",
       "      <th>8</th>\n",
       "      <td>6.6</td>\n",
       "      <td>6.568866</td>\n",
       "    </tr>\n",
       "    <tr>\n",
       "      <th>9</th>\n",
       "      <td>0.6</td>\n",
       "      <td>0.550000</td>\n",
       "    </tr>\n",
       "  </tbody>\n",
       "</table>\n",
       "</div>"
      ],
      "text/plain": [
       "   Addition for Size  add_for_size\n",
       "0                0.6      0.550000\n",
       "1                0.6      0.550000\n",
       "2                1.9      1.901555\n",
       "3                2.5      2.533264\n",
       "4                3.0      2.981469\n",
       "5                3.6      3.613178\n",
       "6                4.4      4.409038\n",
       "7                5.5      5.488952\n",
       "8                6.6      6.568866\n",
       "9                0.6      0.550000"
      ]
     },
     "execution_count": 19,
     "metadata": {},
     "output_type": "execute_result"
    }
   ],
   "source": [
    "train['add_for_size']= train[\"vol_adj_base_spread\"] * 10000 + train['Size_Factor']\n",
    "train.drop(['Addition for Size'], axis=1)\n",
    "train.iloc[0:10, [12,19]]"
   ]
  },
  {
   "cell_type": "markdown",
   "metadata": {},
   "source": [
    "### -- Expected spread --"
   ]
  },
  {
   "cell_type": "markdown",
   "metadata": {},
   "source": [
    "Format : OK \n",
    "\n",
    "Origine : Valeur calculée dans le modèle Excel\n",
    "\n",
    "Valeurs manquantes : aucune\n",
    "\n",
    "Observation : la formule est la suivante : Si add_for_size > 1 alors add_for_size SINON 1"
   ]
  },
  {
   "cell_type": "code",
   "execution_count": 20,
   "metadata": {},
   "outputs": [
    {
     "data": {
      "text/html": [
       "<div>\n",
       "<style scoped>\n",
       "    .dataframe tbody tr th:only-of-type {\n",
       "        vertical-align: middle;\n",
       "    }\n",
       "\n",
       "    .dataframe tbody tr th {\n",
       "        vertical-align: top;\n",
       "    }\n",
       "\n",
       "    .dataframe thead th {\n",
       "        text-align: right;\n",
       "    }\n",
       "</style>\n",
       "<table border=\"1\" class=\"dataframe\">\n",
       "  <thead>\n",
       "    <tr style=\"text-align: right;\">\n",
       "      <th></th>\n",
       "      <th>Expected Spread</th>\n",
       "      <th>exp_spread</th>\n",
       "    </tr>\n",
       "  </thead>\n",
       "  <tbody>\n",
       "    <tr>\n",
       "      <th>0</th>\n",
       "      <td>1.0</td>\n",
       "      <td>1.000000</td>\n",
       "    </tr>\n",
       "    <tr>\n",
       "      <th>1</th>\n",
       "      <td>1.0</td>\n",
       "      <td>1.000000</td>\n",
       "    </tr>\n",
       "    <tr>\n",
       "      <th>2</th>\n",
       "      <td>1.9</td>\n",
       "      <td>1.901555</td>\n",
       "    </tr>\n",
       "    <tr>\n",
       "      <th>3</th>\n",
       "      <td>2.5</td>\n",
       "      <td>2.533264</td>\n",
       "    </tr>\n",
       "    <tr>\n",
       "      <th>4</th>\n",
       "      <td>3.0</td>\n",
       "      <td>2.981469</td>\n",
       "    </tr>\n",
       "    <tr>\n",
       "      <th>5</th>\n",
       "      <td>3.6</td>\n",
       "      <td>3.613178</td>\n",
       "    </tr>\n",
       "    <tr>\n",
       "      <th>6</th>\n",
       "      <td>4.4</td>\n",
       "      <td>4.409038</td>\n",
       "    </tr>\n",
       "    <tr>\n",
       "      <th>7</th>\n",
       "      <td>5.5</td>\n",
       "      <td>5.488952</td>\n",
       "    </tr>\n",
       "    <tr>\n",
       "      <th>8</th>\n",
       "      <td>6.6</td>\n",
       "      <td>6.568866</td>\n",
       "    </tr>\n",
       "    <tr>\n",
       "      <th>9</th>\n",
       "      <td>1.0</td>\n",
       "      <td>1.000000</td>\n",
       "    </tr>\n",
       "  </tbody>\n",
       "</table>\n",
       "</div>"
      ],
      "text/plain": [
       "   Expected Spread  exp_spread\n",
       "0              1.0    1.000000\n",
       "1              1.0    1.000000\n",
       "2              1.9    1.901555\n",
       "3              2.5    2.533264\n",
       "4              3.0    2.981469\n",
       "5              3.6    3.613178\n",
       "6              4.4    4.409038\n",
       "7              5.5    5.488952\n",
       "8              6.6    6.568866\n",
       "9              1.0    1.000000"
      ]
     },
     "execution_count": 20,
     "metadata": {},
     "output_type": "execute_result"
    }
   ],
   "source": [
    "train['exp_spread']=train.apply(lambda x: x[19] if x[19]>1 else  1, axis=1)\n",
    "train.drop(['Expected Spread'], axis=1)\n",
    "train.iloc[0:10, [13,20]]"
   ]
  },
  {
   "cell_type": "markdown",
   "metadata": {},
   "source": [
    "Nous voilà au bout de l'analyse des données et des manipulations.\n",
    "\n",
    "Nous allons maintenant supprimer toutes les informations du dataset qui ne nous sont pas indispensables, ou plutôt, que nous pouvons calculer nous même."
   ]
  },
  {
   "cell_type": "code",
   "execution_count": 21,
   "metadata": {},
   "outputs": [
    {
     "data": {
      "text/html": [
       "<div>\n",
       "<style scoped>\n",
       "    .dataframe tbody tr th:only-of-type {\n",
       "        vertical-align: middle;\n",
       "    }\n",
       "\n",
       "    .dataframe tbody tr th {\n",
       "        vertical-align: top;\n",
       "    }\n",
       "\n",
       "    .dataframe thead th {\n",
       "        text-align: right;\n",
       "    }\n",
       "</style>\n",
       "<table border=\"1\" class=\"dataframe\">\n",
       "  <thead>\n",
       "    <tr style=\"text-align: right;\">\n",
       "      <th></th>\n",
       "      <th>Time</th>\n",
       "      <th>Currency Pair</th>\n",
       "      <th>Amount in Units of 1 million</th>\n",
       "      <th>Normalised BIS Volume (per second)</th>\n",
       "      <th>NCFX Mid</th>\n",
       "      <th>Prior Minute Vol</th>\n",
       "      <th>Norm. Vol</th>\n",
       "      <th>ac_ratio</th>\n",
       "      <th>LOG</th>\n",
       "      <th>Size_Factor</th>\n",
       "      <th>midxmin</th>\n",
       "      <th>vol_adj_base_spread</th>\n",
       "      <th>add_for_size</th>\n",
       "      <th>exp_spread</th>\n",
       "    </tr>\n",
       "  </thead>\n",
       "  <tbody>\n",
       "    <tr>\n",
       "      <th>0</th>\n",
       "      <td>01:00:00</td>\n",
       "      <td>EURUSD</td>\n",
       "      <td>1</td>\n",
       "      <td>4.2</td>\n",
       "      <td>1.17523</td>\n",
       "      <td>0.000022</td>\n",
       "      <td>0.000055</td>\n",
       "      <td>0.238095</td>\n",
       "      <td>-2.235843</td>\n",
       "      <td>0.000000</td>\n",
       "      <td>0.000026</td>\n",
       "      <td>0.000055</td>\n",
       "      <td>0.550000</td>\n",
       "      <td>1.000000</td>\n",
       "    </tr>\n",
       "    <tr>\n",
       "      <th>1</th>\n",
       "      <td>01:00:00</td>\n",
       "      <td>EURUSD</td>\n",
       "      <td>5</td>\n",
       "      <td>4.2</td>\n",
       "      <td>1.17523</td>\n",
       "      <td>0.000022</td>\n",
       "      <td>0.000055</td>\n",
       "      <td>1.190476</td>\n",
       "      <td>0.271640</td>\n",
       "      <td>0.000000</td>\n",
       "      <td>0.000026</td>\n",
       "      <td>0.000055</td>\n",
       "      <td>0.550000</td>\n",
       "      <td>1.000000</td>\n",
       "    </tr>\n",
       "    <tr>\n",
       "      <th>2</th>\n",
       "      <td>01:00:00</td>\n",
       "      <td>EURUSD</td>\n",
       "      <td>10</td>\n",
       "      <td>4.2</td>\n",
       "      <td>1.17523</td>\n",
       "      <td>0.000022</td>\n",
       "      <td>0.000055</td>\n",
       "      <td>2.380952</td>\n",
       "      <td>1.351555</td>\n",
       "      <td>1.351555</td>\n",
       "      <td>0.000026</td>\n",
       "      <td>0.000055</td>\n",
       "      <td>1.901555</td>\n",
       "      <td>1.901555</td>\n",
       "    </tr>\n",
       "    <tr>\n",
       "      <th>3</th>\n",
       "      <td>01:00:00</td>\n",
       "      <td>EURUSD</td>\n",
       "      <td>15</td>\n",
       "      <td>4.2</td>\n",
       "      <td>1.17523</td>\n",
       "      <td>0.000022</td>\n",
       "      <td>0.000055</td>\n",
       "      <td>3.571429</td>\n",
       "      <td>1.983264</td>\n",
       "      <td>1.983264</td>\n",
       "      <td>0.000026</td>\n",
       "      <td>0.000055</td>\n",
       "      <td>2.533264</td>\n",
       "      <td>2.533264</td>\n",
       "    </tr>\n",
       "    <tr>\n",
       "      <th>4</th>\n",
       "      <td>01:00:00</td>\n",
       "      <td>EURUSD</td>\n",
       "      <td>20</td>\n",
       "      <td>4.2</td>\n",
       "      <td>1.17523</td>\n",
       "      <td>0.000022</td>\n",
       "      <td>0.000055</td>\n",
       "      <td>4.761905</td>\n",
       "      <td>2.431469</td>\n",
       "      <td>2.431469</td>\n",
       "      <td>0.000026</td>\n",
       "      <td>0.000055</td>\n",
       "      <td>2.981469</td>\n",
       "      <td>2.981469</td>\n",
       "    </tr>\n",
       "    <tr>\n",
       "      <th>5</th>\n",
       "      <td>01:00:00</td>\n",
       "      <td>EURUSD</td>\n",
       "      <td>30</td>\n",
       "      <td>4.2</td>\n",
       "      <td>1.17523</td>\n",
       "      <td>0.000022</td>\n",
       "      <td>0.000055</td>\n",
       "      <td>7.142857</td>\n",
       "      <td>3.063178</td>\n",
       "      <td>3.063178</td>\n",
       "      <td>0.000026</td>\n",
       "      <td>0.000055</td>\n",
       "      <td>3.613178</td>\n",
       "      <td>3.613178</td>\n",
       "    </tr>\n",
       "    <tr>\n",
       "      <th>6</th>\n",
       "      <td>01:00:00</td>\n",
       "      <td>EURUSD</td>\n",
       "      <td>50</td>\n",
       "      <td>4.2</td>\n",
       "      <td>1.17523</td>\n",
       "      <td>0.000022</td>\n",
       "      <td>0.000055</td>\n",
       "      <td>11.904762</td>\n",
       "      <td>3.859038</td>\n",
       "      <td>3.859038</td>\n",
       "      <td>0.000026</td>\n",
       "      <td>0.000055</td>\n",
       "      <td>4.409038</td>\n",
       "      <td>4.409038</td>\n",
       "    </tr>\n",
       "    <tr>\n",
       "      <th>7</th>\n",
       "      <td>01:00:00</td>\n",
       "      <td>EURUSD</td>\n",
       "      <td>100</td>\n",
       "      <td>4.2</td>\n",
       "      <td>1.17523</td>\n",
       "      <td>0.000022</td>\n",
       "      <td>0.000055</td>\n",
       "      <td>23.809524</td>\n",
       "      <td>4.938952</td>\n",
       "      <td>4.938952</td>\n",
       "      <td>0.000026</td>\n",
       "      <td>0.000055</td>\n",
       "      <td>5.488952</td>\n",
       "      <td>5.488952</td>\n",
       "    </tr>\n",
       "    <tr>\n",
       "      <th>8</th>\n",
       "      <td>01:00:00</td>\n",
       "      <td>EURUSD</td>\n",
       "      <td>200</td>\n",
       "      <td>4.2</td>\n",
       "      <td>1.17523</td>\n",
       "      <td>0.000022</td>\n",
       "      <td>0.000055</td>\n",
       "      <td>47.619048</td>\n",
       "      <td>6.018866</td>\n",
       "      <td>6.018866</td>\n",
       "      <td>0.000026</td>\n",
       "      <td>0.000055</td>\n",
       "      <td>6.568866</td>\n",
       "      <td>6.568866</td>\n",
       "    </tr>\n",
       "    <tr>\n",
       "      <th>9</th>\n",
       "      <td>03:00:00</td>\n",
       "      <td>EURUSD</td>\n",
       "      <td>1</td>\n",
       "      <td>3.4</td>\n",
       "      <td>1.17615</td>\n",
       "      <td>0.000013</td>\n",
       "      <td>0.000055</td>\n",
       "      <td>0.294118</td>\n",
       "      <td>-1.906626</td>\n",
       "      <td>0.000000</td>\n",
       "      <td>0.000015</td>\n",
       "      <td>0.000055</td>\n",
       "      <td>0.550000</td>\n",
       "      <td>1.000000</td>\n",
       "    </tr>\n",
       "  </tbody>\n",
       "</table>\n",
       "</div>"
      ],
      "text/plain": [
       "      Time  Currency Pair  Amount in Units of 1 million  \\\n",
       "0  01:00:00        EURUSD                             1   \n",
       "1  01:00:00        EURUSD                             5   \n",
       "2  01:00:00        EURUSD                            10   \n",
       "3  01:00:00        EURUSD                            15   \n",
       "4  01:00:00        EURUSD                            20   \n",
       "5  01:00:00        EURUSD                            30   \n",
       "6  01:00:00        EURUSD                            50   \n",
       "7  01:00:00        EURUSD                           100   \n",
       "8  01:00:00        EURUSD                           200   \n",
       "9  03:00:00        EURUSD                             1   \n",
       "\n",
       "   Normalised BIS Volume (per second)  NCFX Mid  Prior Minute Vol  Norm. Vol  \\\n",
       "0                                 4.2   1.17523          0.000022   0.000055   \n",
       "1                                 4.2   1.17523          0.000022   0.000055   \n",
       "2                                 4.2   1.17523          0.000022   0.000055   \n",
       "3                                 4.2   1.17523          0.000022   0.000055   \n",
       "4                                 4.2   1.17523          0.000022   0.000055   \n",
       "5                                 4.2   1.17523          0.000022   0.000055   \n",
       "6                                 4.2   1.17523          0.000022   0.000055   \n",
       "7                                 4.2   1.17523          0.000022   0.000055   \n",
       "8                                 4.2   1.17523          0.000022   0.000055   \n",
       "9                                 3.4   1.17615          0.000013   0.000055   \n",
       "\n",
       "    ac_ratio       LOG  Size_Factor   midxmin  vol_adj_base_spread  \\\n",
       "0   0.238095 -2.235843     0.000000  0.000026             0.000055   \n",
       "1   1.190476  0.271640     0.000000  0.000026             0.000055   \n",
       "2   2.380952  1.351555     1.351555  0.000026             0.000055   \n",
       "3   3.571429  1.983264     1.983264  0.000026             0.000055   \n",
       "4   4.761905  2.431469     2.431469  0.000026             0.000055   \n",
       "5   7.142857  3.063178     3.063178  0.000026             0.000055   \n",
       "6  11.904762  3.859038     3.859038  0.000026             0.000055   \n",
       "7  23.809524  4.938952     4.938952  0.000026             0.000055   \n",
       "8  47.619048  6.018866     6.018866  0.000026             0.000055   \n",
       "9   0.294118 -1.906626     0.000000  0.000015             0.000055   \n",
       "\n",
       "   add_for_size  exp_spread  \n",
       "0      0.550000    1.000000  \n",
       "1      0.550000    1.000000  \n",
       "2      1.901555    1.901555  \n",
       "3      2.533264    2.533264  \n",
       "4      2.981469    2.981469  \n",
       "5      3.613178    3.613178  \n",
       "6      4.409038    4.409038  \n",
       "7      5.488952    5.488952  \n",
       "8      6.568866    6.568866  \n",
       "9      0.550000    1.000000  "
      ]
     },
     "execution_count": 21,
     "metadata": {},
     "output_type": "execute_result"
    }
   ],
   "source": [
    "columns_to_drop = ['Amount/Capacity Ratio',\n",
    "       'Log 1,9', 'Size Factor', \n",
    "       'Mid x Min Vol','Vol Adjusted Base Spread',\n",
    "       'Addition for Size', 'Expected Spread']\n",
    "train = train.drop(columns_to_drop, axis=1)\n",
    "\n",
    "train.head(10)"
   ]
  },
  {
   "cell_type": "markdown",
   "metadata": {},
   "source": [
    "Nous n'allons garder également que les valeurs pour 1M qui est la granularité maximum, les autres montants pouvant être calculés."
   ]
  },
  {
   "cell_type": "markdown",
   "metadata": {},
   "source": [
    "## Implémentation :\n",
    "\n",
    "Nous avons maintenant clairement identifier les Inputs et le Outputs du modèle de donnés.\n",
    "\n",
    "Les valeurs d'inputs sont :\n",
    "- Time\n",
    "- Currency Pair\n",
    "- Amount in Units of 1 million\n",
    "- Normalized BIS Volume (per second)\n",
    "- NCFX Mid\n",
    "- Prior Minute Vol\n",
    "- Normal Vol\n",
    "\n",
    "En retour le modèle aura comme outputs :\n",
    "- ac_ratio\n",
    "- LOG\n",
    "- Size_Factor\n",
    "- midxmin\n",
    "- vol_adj_base_spread\n",
    "- add_for_size\n",
    "- exp_spread"
   ]
  },
  {
   "cell_type": "code",
   "execution_count": 22,
   "metadata": {},
   "outputs": [],
   "source": [
    "input_list = ['Time ', 'Currency Pair',\n",
    "       'Normalised BIS Volume (per second)', 'NCFX Mid', 'Prior Minute Vol',\n",
    "       'Norm. Vol']\n",
    "\n",
    "output_list =['ac_ratio', 'LOG', 'Size_Factor', 'midxmin',\n",
    "       'vol_adj_base_spread', 'add_for_size', 'exp_spread']\n",
    "\n",
    "input_df = train.iloc[:, 0:7]\n",
    "\n",
    "input_df.to_csv('input_matrix_ncfx.csv')"
   ]
  },
  {
   "cell_type": "markdown",
   "metadata": {},
   "source": [
    "Le format de fichier attendu pour alimenter un modèle de Deep Learning est généré en annexe de ce NotebooK.\n",
    "\n",
    "Et ci-dessous un petit outil de simulation."
   ]
  },
  {
   "cell_type": "code",
   "execution_count": 23,
   "metadata": {},
   "outputs": [],
   "source": [
    "\n",
    "df = pd.DataFrame()\n",
    "\n",
    "\n",
    "def estimate_spread(Hour, currpair, amount) :\n",
    "    \n",
    "    matrix = pd.read_csv('input_matrix_ncfx.csv')\n",
    "    matrix =  matrix.loc[matrix['Amount in Units of 1 million']==1]\n",
    "    #matrix['Time ']=str(matrix['Time '])\n",
    "    \n",
    "    #d = {'Hour': [Hour], 'currpair': [currpair], 'amount' : [amount]}\n",
    "    df['Hour'] = [Hour]\n",
    "    df['currpair'] = [currpair]\n",
    "    df['amount'] = [amount]\n",
    "    \n",
    "    df['BISvolume'] = matrix.apply(lambda x : matrix.loc[matrix['Time ']==Hour]['Normalised BIS Volume (per second)'], axis = 1)\n",
    "    df['NCFXmid'] = matrix.apply(lambda x : matrix.loc[matrix['Time ']==Hour]['NCFX Mid'], axis = 1)\n",
    "    df['Priormin'] = matrix.apply(lambda x : matrix.loc[matrix['Time ']==Hour]['Prior Minute Vol'], axis = 1)\n",
    "    df['Normvol'] = matrix.apply(lambda x : matrix.loc[matrix['Time ']==Hour]['Norm. Vol'], axis = 1)\n",
    "    #Now we add the calculated values\n",
    "    df['acratio'] = df.apply(lambda x : x[2]/x[3],axis=1)\n",
    "    df['log']=df.apply(lambda x: math.log(x[7],1.9), axis=1)\n",
    "    df['sizefactor'] = df.apply(lambda x: x[8] if x[8]>1 else  0, axis=1)\n",
    "    df['midxmin'] = df['NCFXmid']*(1 + df['Priormin'])-df['NCFXmid']\n",
    "    df[\"vol_adj_base_spread\"] = df[[\"midxmin\", \"Normvol\"]].max(axis=1)\n",
    "    df['add_for_size']= df[\"vol_adj_base_spread\"] * 10000 + df['sizefactor']\n",
    "    df['exp_spread']=df.apply(lambda x: x[12] if x[12]>1 else  1, axis=1)\n",
    "    \n",
    "\n",
    "    return(df)\n",
    "\n"
   ]
  },
  {
   "cell_type": "code",
   "execution_count": 24,
   "metadata": {},
   "outputs": [
    {
     "data": {
      "application/vnd.jupyter.widget-view+json": {
       "model_id": "7a268edd8c7644918bf7a6466112a256",
       "version_major": 2,
       "version_minor": 0
      },
      "text/plain": [
       "interactive(children=(Dropdown(description='Hour', options=('01:00:00', '03:00:00', '05:00:00', '06:00:00', '0…"
      ]
     },
     "metadata": {},
     "output_type": "display_data"
    },
    {
     "data": {
      "text/plain": [
       "<function __main__.estimate_spread(Hour, currpair, amount)>"
      ]
     },
     "metadata": {},
     "output_type": "display_data"
    }
   ],
   "source": [
    "x = interact(estimate_spread, Hour=['01:00:00','03:00:00', '05:00:00', '06:00:00', '07:00:00',\n",
    "       '08:00:00', '09:00:00', '10:00:00', '12:00:00', '14:00:00',\n",
    "       '15:00:00', '16:00:00', '17:00:00', '18:00:00', '19:00:00',\n",
    "       '20:00:00', '22:00:00'], currpair=['EURUSD','USDGBP','EURGBP'], amount=125)\n",
    "display(x)"
   ]
  },
  {
   "cell_type": "markdown",
   "metadata": {},
   "source": [
    "*NB : Il n'y à que la matrice EURUSD dans ce Notebook"
   ]
  }
 ],
 "metadata": {
  "kernelspec": {
   "display_name": "Python 3",
   "language": "python",
   "name": "python3"
  },
  "language_info": {
   "codemirror_mode": {
    "name": "ipython",
    "version": 3
   },
   "file_extension": ".py",
   "mimetype": "text/x-python",
   "name": "python",
   "nbconvert_exporter": "python",
   "pygments_lexer": "ipython3",
   "version": "3.7.1"
  }
 },
 "nbformat": 4,
 "nbformat_minor": 2
}
